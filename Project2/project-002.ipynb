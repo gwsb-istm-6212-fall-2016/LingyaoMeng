{
 "cells": [
  {
   "cell_type": "markdown",
   "metadata": {},
   "source": [
    "Group Members: Kamran Qureshi & Lingyao Meng"
   ]
  },
  {
   "cell_type": "markdown",
   "metadata": {},
   "source": [
    "##### Attestation\n",
    "Both of us worked together on all questions. We will upload the exact same copy to our github accounts."
   ]
  },
  {
   "cell_type": "markdown",
   "metadata": {},
   "source": [
    "# Project 02 - Due Friday, November 11 at 12pm\n",
    "\n",
    "*Objectives*: Gain experience loading a transactional dataset into a relational database model you define yourself and using SQL to explore its contents. Transform the data into a star schema, documenting the schema visually, and explore the transformed data analytically by writing and executing a number of SQL queries using common syntax and functions and describing your findings.  Gain practice working on these tasks with a partner.\n",
    "\n",
    "*Grading criteria*: The tasks should all be completed, and questions should all be answered with SQL queries, diagrams, and charts in the space provided, unless a text answer is requested.  The notebook itself should be completely reproducible at datanotebook.org, from start to finish: another person should be able to use the same code to obtain the same results as yours.  Note that you will receive no more than partial credit if you do not add text/markdown cells explaining your thinking at each major step in each problem.\n",
    "\n",
    "*Attestation*: **Work in pairs**.  At the end of your submitted notebook, identify the work each partner performed and attest that each contributed substantially to the work.\n",
    "\n",
    "*Deadline*: Friday, November 11, 12pm.  One member of each pair must submit your notebook to Blackboard; you should not both submit it separately.  You may each push a copy to your own GitHub repository.\n",
    "\n",
    "\n",
    "## Setup - select and obtain data\n",
    "\n",
    "The US City Open Data Census has a variety of [transactional data from all over the country](http://us-city.census.okfn.org/).  Select one topic and one city from this Census, download the data, and explain your reason for this choice before proceeding.  Provide a link to the web page for the data set you've chosen.\n",
    "\n",
    "I strongly encourage you to select a dataset from among the following topics:  Crime, Property Assessment, Campaign Finance Contributions, Service Requests (311), and Web Analytics.\n",
    "\n",
    "By *transactional* data I mean records at the grain of one event per business process.  In the case of Service Requests (311), for example, that would require data at the level of each individual report of a service request.  If this isn't clear, think about the bike trip data - each individual ride was included - and look for data at that level of event/process specificity.  Avoid data like the Connecticut boating data, which was summarized by year, not individual transactions.\n",
    "\n",
    "Please aim for a dataset of at least 10,000 individual records, but less than 250,000 records.  A little more or a little less is okay, but try to stay within these limits."
   ]
  },
  {
   "cell_type": "code",
   "execution_count": 1,
   "metadata": {
    "collapsed": false
   },
   "outputs": [
    {
     "name": "stdout",
     "output_type": "stream",
     "text": [
      "--2016-11-11 08:23:08--  https://raw.githubusercontent.com/gwsb-istm-6212-fall-2016/LingyaoMeng/master/Project2/SFPD_Incident_2015.csv\n",
      "Resolving raw.githubusercontent.com (raw.githubusercontent.com)... 151.101.32.133\n",
      "Connecting to raw.githubusercontent.com (raw.githubusercontent.com)|151.101.32.133|:443... connected.\n",
      "HTTP request sent, awaiting response... 200 OK\n",
      "Length: 23497300 (22M) [text/plain]\n",
      "Saving to: ‘SFPD_Incident_2015.csv’\n",
      "\n",
      "SFPD_Incident_2015. 100%[=====================>]  22.41M   105MB/s   in 0.2s   \n",
      "\n",
      "2016-11-11 08:23:08 (105 MB/s) - ‘SFPD_Incident_2015.csv’ saved [23497300/23497300]\n",
      "\n"
     ]
    }
   ],
   "source": [
    "!wget https://raw.githubusercontent.com/gwsb-istm-6212-fall-2016/LingyaoMeng/master/Project2/SFPD_Incident_2015.csv"
   ]
  },
  {
   "cell_type": "markdown",
   "metadata": {},
   "source": [
    "The data is downloaded from https://data.sfgov.org/Public-Safety/SFPD-Incidents-from-1-January-2003/tmnf-yvry.\n",
    "\n",
    "We choose the year 2015 to do data exploration. Therefore the date is from 01/01/2015 to 12/31/2015. However, we noticed that if include all columns in the downloaded dat, the size would exceed the maximum allowed for github. We made a concious choice of trimming down two columns: PDID and location. PDID is the unique indentification to each case recorded, and location is the longitude and latitude of the location of the crime. Since we can easily generate the key for each crime, we don't think it's neccessary to include it in the downloaed data set. As for the column Location, we can combine column X and column Y to obtain therefore it is also redundant for us to download.\n"
   ]
  },
  {
   "cell_type": "markdown",
   "metadata": {},
   "source": [
    "## Problem 1 - examine the data (20 points)\n",
    "\n",
    "Use `csvstat`, `pandas`, or other tools as you see fit and observe the contents of your dataset.  Review important points from any metadata provided.  Describe what you see:  What do the columns mean?  Are there null values?  Which columns interest you the most?  Which columns present some opportunities, challenges, or questions you would like to ask?"
   ]
  },
  {
   "cell_type": "code",
   "execution_count": 2,
   "metadata": {
    "collapsed": false
   },
   "outputs": [
    {
     "name": "stdout",
     "output_type": "stream",
     "text": [
      "  1. ﻿IncidntNum\n",
      "\t<class 'str'>\n",
      "\tNulls: False\n",
      "\tUnique values: 122104\n",
      "\t5 most frequent values:\n",
      "\t\t151121761:\t14\n",
      "\t\t150109908:\t13\n",
      "\t\t151038144:\t13\n",
      "\t\t150327649:\t11\n",
      "\t\t150491852:\t11\n",
      "\tMax length: 9\n",
      "  2. Category\n",
      "\t<class 'str'>\n",
      "\tNulls: False\n",
      "\tUnique values: 39\n",
      "\t5 most frequent values:\n",
      "\t\tLARCENY/THEFT:\t42056\n",
      "\t\tOTHER OFFENSES:\t20363\n",
      "\t\tNON-CRIMINAL:\t19161\n",
      "\t\tASSAULT:\t13100\n",
      "\t\tVEHICLE THEFT:\t7948\n",
      "\tMax length: 27\n",
      "  3. Descript\n",
      "\t<class 'str'>\n",
      "\tNulls: False\n",
      "\tUnique values: 733\n",
      "\t5 most frequent values:\n",
      "\t\tGRAND THEFT FROM LOCKED AUTO:\t17729\n",
      "\t\tSTOLEN AUTOMOBILE:\t4990\n",
      "\t\tDRIVERS LICENSE, SUSPENDED OR REVOKED:\t4808\n",
      "\t\tAIDED CASE, MENTAL DISTURBED:\t4684\n",
      "\t\tLOST PROPERTY:\t4553\n",
      "\tMax length: 62\n",
      "  4. DayOfWeek\n",
      "\t<class 'str'>\n",
      "\tNulls: False\n",
      "\tUnique values: 7\n",
      "\t5 most frequent values:\n",
      "\t\tFriday:\t23814\n",
      "\t\tSaturday:\t22884\n",
      "\t\tThursday:\t22446\n",
      "\t\tWednesday:\t22422\n",
      "\t\tTuesday:\t21805\n",
      "\tMax length: 9\n",
      "  5. Date\n",
      "\t<class 'datetime.date'>\n",
      "\tNulls: False\n",
      "\tMin: 2015-01-01\n",
      "\tMax: 2015-12-31\n",
      "\tUnique values: 365\n",
      "\t5 most frequent values:\n",
      "\t\t2015-06-28:\t598\n",
      "\t\t2015-10-01:\t555\n",
      "\t\t2015-01-01:\t550\n",
      "\t\t2015-08-28:\t539\n",
      "\t\t2015-06-01:\t537\n",
      "  6. Time\n",
      "\t<class 'datetime.time'>\n",
      "\tNulls: False\n",
      "\tMin: 00:01:00\n",
      "\tMax: 23:59:00\n",
      "\tUnique values: 1439\n",
      "\t5 most frequent values:\n",
      "\t\t12:00:00:\t4319\n",
      "\t\t00:01:00:\t3996\n",
      "\t\t18:00:00:\t3513\n",
      "\t\t20:00:00:\t3170\n",
      "\t\t19:00:00:\t3158\n",
      "  7. PdDistrict\n",
      "\t<class 'str'>\n",
      "\tNulls: False\n",
      "\tUnique values: 10\n",
      "\t5 most frequent values:\n",
      "\t\tSOUTHERN:\t30065\n",
      "\t\tNORTHERN:\t20079\n",
      "\t\tCENTRAL:\t18560\n",
      "\t\tMISSION:\t18536\n",
      "\t\tBAYVIEW:\t14699\n",
      "\tMax length: 10\n",
      "  8. Resolution\n",
      "\t<class 'str'>\n",
      "\tNulls: True\n",
      "\tUnique values: 13\n",
      "\t5 most frequent values:\n",
      "\t\tARREST, BOOKED:\t39853\n",
      "\t\tUNFOUNDED:\t2445\n",
      "\t\tARREST, CITED:\t1037\n",
      "\t\tJUVENILE BOOKED:\t1028\n",
      "\t\tEXCEPTIONAL CLEARANCE:\t801\n",
      "\tMax length: 38\n",
      "  9. Address\n",
      "\t<class 'str'>\n",
      "\tNulls: False\n",
      "\tUnique values: 16458\n",
      "\t5 most frequent values:\n",
      "\t\t800 Block of BRYANT ST:\t3894\n",
      "\t\t800 Block of MARKET ST:\t1409\n",
      "\t\t1000 Block of POTRERO AV:\t871\n",
      "\t\t900 Block of MARKET ST:\t639\n",
      "\t\t16TH ST / MISSION ST:\t564\n",
      "\tMax length: 42\n",
      " 10. X\n",
      "\t<class 'float'>\n",
      "\tNulls: False\n",
      "\tMin: -122.513642064265\n",
      "\tMax: -122.365565425353\n",
      "\tSum: -19149966.012611337\n",
      "\tMean: -122.42345172487174\n",
      "\tMedian: -122.416791245836\n",
      "\tStandard Deviation: 0.026276532285061185\n",
      "\tUnique values: 19981\n",
      "\t5 most frequent values:\n",
      "\t\t-122.403404791479:\t3854\n",
      "\t\t-122.406539115148:\t854\n",
      "\t\t-122.419671780296:\t723\n",
      "\t\t-122.407633520742:\t675\n",
      "\t\t-122.466204667893:\t504\n",
      " 11. Y\n",
      "\t<class 'float'>\n",
      "\tNulls: False\n",
      "\tMin: 37.7078790224135\n",
      "\tMax: 37.819975492297\n",
      "\tSum: 5907911.407879746\n",
      "\tMean: 37.768573926505816\n",
      "\tMedian: 37.775420706711\n",
      "\tStandard Deviation: 0.0240796486865441\n",
      "\tUnique values: 19981\n",
      "\t5 most frequent values:\n",
      "\t\t37.775420706711:\t3854\n",
      "\t\t37.7564864109309:\t854\n",
      "\t\t37.7650501214668:\t723\n",
      "\t\t37.7841893501425:\t675\n",
      "\t\t37.7725405391593:\t504\n",
      "\n",
      "Row count: 156424\n"
     ]
    }
   ],
   "source": [
    "!csvstat SFPD_Incident_2015.csv"
   ]
  },
  {
   "cell_type": "markdown",
   "metadata": {},
   "source": [
    "There are 11 columns in the data set. \n",
    "\n",
    "1 IncidntNum\n",
    "\n",
    "Incident number that associated with each case. there are duplicate, which indicated there are some cases with same incident that happened. \n",
    "\n",
    "2 Category\n",
    "\n",
    "The category of the crime. The most commonly seen ones are LARCENY/THEFT, and OTHER OFFENSES\n",
    "\n",
    "3 Descript \n",
    "\n",
    "Description of the case. The most commonly seen one in San Fran is GRAND THEFT FROM LOCKED AUTO\n",
    "\n",
    "4 DayOfWeek\n",
    "\n",
    "The day of week that the crime happened. \n",
    "\n",
    "5 Date \n",
    "\n",
    "Self explanatory. The date that the event occured. \n",
    "\n",
    "6 Time \n",
    "\n",
    "Self explanatory. The time that the event occured. \n",
    "\n",
    "7 PdDistrict\n",
    "\n",
    "The police district that the crime happened. The highest frequency occured in SOUTHERN\n",
    "\n",
    "8 Resolution \n",
    "\n",
    "The resolution of the case. the most common one is ARREST, BOOKED. \n",
    "\n",
    "9 Address \n",
    "\n",
    "the address of the crime scene. \n",
    "\n",
    "10 X \n",
    "\n",
    "The latitude of the crime scene. \n",
    "\n",
    "11 Y \n",
    "\n",
    "The longitude of the crime scene. \n",
    "\n",
    "The only column that has null value in our data set is Resolution, as it has Nulls: True when examining the data by csvstat, which is quite understandable since some resolution may not be present when the record was made.\n",
    "\n",
    "Interesting question of crime can be: during what time of the day San Fran would have most crime occur? Does the frequency of crime follow any trend as months goes by? There are more topics we want to discuss and we will dive in those in Part 4.\n"
   ]
  },
  {
   "cell_type": "markdown",
   "metadata": {},
   "source": [
    "## Problem 2 - define a database model, load the data, and explore (20 points)\n",
    "\n",
    "Based on what you found above, create and connect to a new database, define a database table in it, and load this dataset into it.  You may use either of the methods for this step you have seen in earlier class notebooks.  You may choose to eliminate variables/columns if they are not relevant or interesting to you - explain your reasoning if you do.  Either way, you should load a majority of the columns present in the source dataset as it is in its raw form into the database, and all of its rows.\n",
    "\n",
    "Once your data has loaded successfully, run a `COUNT(*)` query to verify that all the data has loaded correctly.\n",
    "\n",
    "Explore the data to zero in on a few themes you would like to further study analytically.  Discuss columns that present opportunities for extraction into dimensions, and identify the specific columns that contain facts you want to measure."
   ]
  },
  {
   "cell_type": "code",
   "execution_count": 3,
   "metadata": {
    "collapsed": false
   },
   "outputs": [
    {
     "name": "stderr",
     "output_type": "stream",
     "text": [
      "/opt/conda/lib/python3.5/site-packages/IPython/config.py:13: ShimWarning: The `IPython.config` package has been deprecated. You should import from traitlets.config instead.\n",
      "  \"You should import from traitlets.config instead.\", ShimWarning)\n",
      "/opt/conda/lib/python3.5/site-packages/IPython/utils/traitlets.py:5: UserWarning: IPython.utils.traitlets has moved to a top-level traitlets package.\n",
      "  warn(\"IPython.utils.traitlets has moved to a top-level traitlets package.\")\n"
     ]
    }
   ],
   "source": [
    "%load_ext sql"
   ]
  },
  {
   "cell_type": "code",
   "execution_count": 4,
   "metadata": {
    "collapsed": false
   },
   "outputs": [
    {
     "name": "stdout",
     "output_type": "stream",
     "text": [
      "[sudo] password for jovyan: Restarting PostgreSQL 9.5 database server: main.\n"
     ]
    }
   ],
   "source": [
    "!echo 'redspot' | sudo -S service postgresql restart"
   ]
  },
  {
   "cell_type": "code",
   "execution_count": 5,
   "metadata": {
    "collapsed": false
   },
   "outputs": [],
   "source": [
    "!createdb -U dbuser project2"
   ]
  },
  {
   "cell_type": "code",
   "execution_count": 6,
   "metadata": {
    "collapsed": false
   },
   "outputs": [
    {
     "data": {
      "text/plain": [
       "'Connected: dbuser@project2'"
      ]
     },
     "execution_count": 6,
     "metadata": {},
     "output_type": "execute_result"
    }
   ],
   "source": [
    "%sql postgresql://dbuser@localhost:5432/project2"
   ]
  },
  {
   "cell_type": "code",
   "execution_count": 7,
   "metadata": {
    "collapsed": false
   },
   "outputs": [
    {
     "name": "stdout",
     "output_type": "stream",
     "text": [
      "Done.\n",
      "Done.\n"
     ]
    },
    {
     "data": {
      "text/plain": [
       "[]"
      ]
     },
     "execution_count": 7,
     "metadata": {},
     "output_type": "execute_result"
    }
   ],
   "source": [
    "%%sql\n",
    "DROP TABLE IF EXISTS sfcrime;\n",
    "CREATE TABLE sfcrime \n",
    "(\n",
    "    INCIDENT_NUM INTEGER,\n",
    "    CATEGORY VARCHAR(27),\n",
    "    DESCRIPTION VARCHAR(62),\n",
    "    DAY_OF_WEEK VARCHAR(9),\n",
    "    DATE DATE,\n",
    "    TIME TIME,\n",
    "    PDDISTRICT VARCHAR(20),\n",
    "    RESOLUTION VARCHAR(38),\n",
    "    ADDRESS VARCHAR(42),\n",
    "    LATITUDE float, \n",
    "    LONGITUDE float   \n",
    ")"
   ]
  },
  {
   "cell_type": "code",
   "execution_count": 8,
   "metadata": {
    "collapsed": false
   },
   "outputs": [
    {
     "name": "stdout",
     "output_type": "stream",
     "text": [
      "/home/jovyan/work\r\n"
     ]
    }
   ],
   "source": [
    "!pwd"
   ]
  },
  {
   "cell_type": "code",
   "execution_count": 9,
   "metadata": {
    "collapsed": false
   },
   "outputs": [
    {
     "name": "stdout",
     "output_type": "stream",
     "text": [
      "156424 rows affected.\n"
     ]
    },
    {
     "data": {
      "text/plain": [
       "[]"
      ]
     },
     "execution_count": 9,
     "metadata": {},
     "output_type": "execute_result"
    }
   ],
   "source": [
    "%%sql\n",
    "COPY sfcrime FROM '/home/jovyan/work/SFPD_Incident_2015.csv'\n",
    "CSV\n",
    "HEADER\n",
    "QUOTE '\"'\n",
    "DELIMITER ',';"
   ]
  },
  {
   "cell_type": "code",
   "execution_count": 10,
   "metadata": {
    "collapsed": false
   },
   "outputs": [
    {
     "name": "stdout",
     "output_type": "stream",
     "text": [
      "1 rows affected.\n"
     ]
    },
    {
     "data": {
      "text/html": [
       "<table>\n",
       "    <tr>\n",
       "        <th>count</th>\n",
       "    </tr>\n",
       "    <tr>\n",
       "        <td>156424</td>\n",
       "    </tr>\n",
       "</table>"
      ],
      "text/plain": [
       "[(156424,)]"
      ]
     },
     "execution_count": 10,
     "metadata": {},
     "output_type": "execute_result"
    }
   ],
   "source": [
    "%%sql\n",
    "SELECT COUNT(*) FROM sfcrime"
   ]
  },
  {
   "cell_type": "markdown",
   "metadata": {},
   "source": [
    "We have a very neat data set that can be divided into the following dimensions:\n",
    "\n",
    "a. Crime Type Dimension. This dimension includes the Category of the crime\n",
    "\n",
    "b. Time Dimension. The time dimension includes the DayOfWeek, and Date of the crime. \n",
    "\n",
    "c. Location Dimension. The location dimension describes the location of the crime. It consists of the police district of the crime. \n",
    "\n",
    "Since we are looking at crime data and we want to explore more about the time of the occurence of the crime. We decide to include Time in our fact table along with the surrogate key from all dimensions. We are keeping some more columns in the fact table in order to avoid loss of important information like address, resolution and co-ordinates\n"
   ]
  },
  {
   "cell_type": "markdown",
   "metadata": {},
   "source": [
    "## Problem 3 - define a star schema, and load your data into it (30 points)\n",
    "\n",
    "Define a star schema consisting of at least one fact table and at least two dimensions.  Transform your source data into the new fact table and dimensions.  Discuss your key modeling decisions.\n",
    "\n",
    "Document your star schema with a diagram.  There several tools available for this, such as Google Docs and Microsoft Visio."
   ]
  },
  {
   "cell_type": "markdown",
   "metadata": {},
   "source": [
    "### Schema Design"
   ]
  },
  {
   "cell_type": "code",
   "execution_count": 11,
   "metadata": {
    "collapsed": false
   },
   "outputs": [
    {
     "data": {
      "text/html": [
       "<img src=\"https://raw.githubusercontent.com/kamran1310/istm-6212/master/schema.jpg\"/>"
      ],
      "text/plain": [
       "<IPython.core.display.Image object>"
      ]
     },
     "execution_count": 11,
     "metadata": {},
     "output_type": "execute_result"
    }
   ],
   "source": [
    "from IPython.display import Image\n",
    "from IPython.core.display import HTML \n",
    "Image(url= \"https://raw.githubusercontent.com/kamran1310/istm-6212/master/schema.jpg\")"
   ]
  },
  {
   "cell_type": "code",
   "execution_count": 12,
   "metadata": {
    "collapsed": false
   },
   "outputs": [
    {
     "name": "stdout",
     "output_type": "stream",
     "text": [
      "5 rows affected.\n"
     ]
    },
    {
     "data": {
      "text/html": [
       "<table>\n",
       "    <tr>\n",
       "        <th>incident_num</th>\n",
       "        <th>category</th>\n",
       "        <th>description</th>\n",
       "        <th>day_of_week</th>\n",
       "        <th>date</th>\n",
       "        <th>time</th>\n",
       "        <th>pddistrict</th>\n",
       "        <th>resolution</th>\n",
       "        <th>address</th>\n",
       "        <th>latitude</th>\n",
       "        <th>longitude</th>\n",
       "    </tr>\n",
       "    <tr>\n",
       "        <td>110914565</td>\n",
       "        <td>WARRANTS</td>\n",
       "        <td>WARRANT ARREST</td>\n",
       "        <td>Friday</td>\n",
       "        <td>2015-05-29</td>\n",
       "        <td>16:42:00</td>\n",
       "        <td>SOUTHERN</td>\n",
       "        <td>ARREST, BOOKED</td>\n",
       "        <td>BRYANT ST / 8TH ST</td>\n",
       "        <td>-122.406970988225</td>\n",
       "        <td>37.7725273607571</td>\n",
       "    </tr>\n",
       "    <tr>\n",
       "        <td>150906209</td>\n",
       "        <td>NON-CRIMINAL</td>\n",
       "        <td>LICENSE PLATE, RECOVERED</td>\n",
       "        <td>Tuesday</td>\n",
       "        <td>2015-10-13</td>\n",
       "        <td>18:00:00</td>\n",
       "        <td>NORTHERN</td>\n",
       "        <td>NONE</td>\n",
       "        <td>OFARRELL ST / FILLMORE ST</td>\n",
       "        <td>-122.432706975892</td>\n",
       "        <td>37.7832909416362</td>\n",
       "    </tr>\n",
       "    <tr>\n",
       "        <td>150021318</td>\n",
       "        <td>LARCENY/THEFT</td>\n",
       "        <td>GRAND THEFT FROM LOCKED AUTO</td>\n",
       "        <td>Wednesday</td>\n",
       "        <td>2015-01-07</td>\n",
       "        <td>18:20:00</td>\n",
       "        <td>SOUTHERN</td>\n",
       "        <td>NONE</td>\n",
       "        <td>0 Block of FOLSOM ST</td>\n",
       "        <td>-122.39055604599</td>\n",
       "        <td>37.7904750361645</td>\n",
       "    </tr>\n",
       "    <tr>\n",
       "        <td>150021324</td>\n",
       "        <td>NON-CRIMINAL</td>\n",
       "        <td>LICENSE PLATE, RECOVERED</td>\n",
       "        <td>Wednesday</td>\n",
       "        <td>2015-01-07</td>\n",
       "        <td>20:35:00</td>\n",
       "        <td>NORTHERN</td>\n",
       "        <td>NONE</td>\n",
       "        <td>300 Block of LARKIN ST</td>\n",
       "        <td>-122.4169801816</td>\n",
       "        <td>37.7809770123705</td>\n",
       "    </tr>\n",
       "    <tr>\n",
       "        <td>150021346</td>\n",
       "        <td>OTHER OFFENSES</td>\n",
       "        <td>LOST/STOLEN LICENSE PLATE</td>\n",
       "        <td>Wednesday</td>\n",
       "        <td>2015-01-07</td>\n",
       "        <td>17:30:00</td>\n",
       "        <td>INGLESIDE</td>\n",
       "        <td>NONE</td>\n",
       "        <td>200 Block of TEDDY AV</td>\n",
       "        <td>-122.407583029168</td>\n",
       "        <td>37.7148189169113</td>\n",
       "    </tr>\n",
       "</table>"
      ],
      "text/plain": [
       "[(110914565, 'WARRANTS', 'WARRANT ARREST', 'Friday', datetime.date(2015, 5, 29), datetime.time(16, 42), 'SOUTHERN', 'ARREST, BOOKED', 'BRYANT ST / 8TH ST', -122.406970988225, 37.7725273607571),\n",
       " (150906209, 'NON-CRIMINAL', 'LICENSE PLATE, RECOVERED', 'Tuesday', datetime.date(2015, 10, 13), datetime.time(18, 0), 'NORTHERN', 'NONE', 'OFARRELL ST / FILLMORE ST', -122.432706975892, 37.7832909416362),\n",
       " (150021318, 'LARCENY/THEFT', 'GRAND THEFT FROM LOCKED AUTO', 'Wednesday', datetime.date(2015, 1, 7), datetime.time(18, 20), 'SOUTHERN', 'NONE', '0 Block of FOLSOM ST', -122.39055604599, 37.7904750361645),\n",
       " (150021324, 'NON-CRIMINAL', 'LICENSE PLATE, RECOVERED', 'Wednesday', datetime.date(2015, 1, 7), datetime.time(20, 35), 'NORTHERN', 'NONE', '300 Block of LARKIN ST', -122.4169801816, 37.7809770123705),\n",
       " (150021346, 'OTHER OFFENSES', 'LOST/STOLEN LICENSE PLATE', 'Wednesday', datetime.date(2015, 1, 7), datetime.time(17, 30), 'INGLESIDE', 'NONE', '200 Block of TEDDY AV', -122.407583029168, 37.7148189169113)]"
      ]
     },
     "execution_count": 12,
     "metadata": {},
     "output_type": "execute_result"
    }
   ],
   "source": [
    "%%sql\n",
    "SELECT *\n",
    "FROM sfcrime \n",
    "limit 5;"
   ]
  },
  {
   "cell_type": "markdown",
   "metadata": {},
   "source": [
    "### Dimension 1"
   ]
  },
  {
   "cell_type": "markdown",
   "metadata": {},
   "source": [
    "We create a table with an identifier, day_no, for each day in the year 2015. Each day has a date associated with it along with a day name. Primary key day_no becomes the foreign key for the fact table"
   ]
  },
  {
   "cell_type": "code",
   "execution_count": 13,
   "metadata": {
    "collapsed": false
   },
   "outputs": [
    {
     "name": "stdout",
     "output_type": "stream",
     "text": [
      "Done.\n",
      "Done.\n"
     ]
    },
    {
     "data": {
      "text/plain": [
       "[]"
      ]
     },
     "execution_count": 13,
     "metadata": {},
     "output_type": "execute_result"
    }
   ],
   "source": [
    "%%sql\n",
    "drop table if exists dates cascade;\n",
    "create table dates\n",
    "(\n",
    "    day_no serial,\n",
    "    date date,\n",
    "    day VARCHAR(10),\n",
    "    PRIMARY KEY(day_no)\n",
    ")"
   ]
  },
  {
   "cell_type": "code",
   "execution_count": 14,
   "metadata": {
    "collapsed": false
   },
   "outputs": [
    {
     "name": "stdout",
     "output_type": "stream",
     "text": [
      "365 rows affected.\n"
     ]
    },
    {
     "data": {
      "text/plain": [
       "[]"
      ]
     },
     "execution_count": 14,
     "metadata": {},
     "output_type": "execute_result"
    }
   ],
   "source": [
    "%%sql\n",
    "insert into dates(date) select *\n",
    "FROM generate_series( '2015-01-01'::timestamp\n",
    "        , '2015-12-31'::timestamp\n",
    "        , '1 day'::interval);\n",
    "\n"
   ]
  },
  {
   "cell_type": "code",
   "execution_count": 15,
   "metadata": {
    "collapsed": false
   },
   "outputs": [
    {
     "name": "stdout",
     "output_type": "stream",
     "text": [
      "365 rows affected.\n"
     ]
    },
    {
     "data": {
      "text/plain": [
       "[]"
      ]
     },
     "execution_count": 15,
     "metadata": {},
     "output_type": "execute_result"
    }
   ],
   "source": [
    "%%sql\n",
    "update dates\n",
    "set day=to_char(date, 'Day');"
   ]
  },
  {
   "cell_type": "markdown",
   "metadata": {
    "collapsed": false
   },
   "source": [
    "Adding day_no in a temporary fact table fact_table1."
   ]
  },
  {
   "cell_type": "code",
   "execution_count": 16,
   "metadata": {
    "collapsed": false
   },
   "outputs": [
    {
     "name": "stdout",
     "output_type": "stream",
     "text": [
      "Done.\n",
      "156424 rows affected.\n"
     ]
    },
    {
     "data": {
      "text/plain": [
       "[]"
      ]
     },
     "execution_count": 16,
     "metadata": {},
     "output_type": "execute_result"
    }
   ],
   "source": [
    "%%sql\n",
    "drop table if exists fact_table1;\n",
    "create table fact_table1 as\n",
    "select b.day_no,a.* from sfcrime as a left join dates as b on a.date=b.date;"
   ]
  },
  {
   "cell_type": "markdown",
   "metadata": {},
   "source": [
    "Setting day_no as foreign key in the temporary fact table "
   ]
  },
  {
   "cell_type": "code",
   "execution_count": 17,
   "metadata": {
    "collapsed": false
   },
   "outputs": [
    {
     "name": "stdout",
     "output_type": "stream",
     "text": [
      "Done.\n"
     ]
    },
    {
     "data": {
      "text/plain": [
       "[]"
      ]
     },
     "execution_count": 17,
     "metadata": {},
     "output_type": "execute_result"
    }
   ],
   "source": [
    "%%sql\n",
    "Alter table fact_table1\n",
    "Add CONSTRAINT day_no\n",
    "Foreign Key (day_no) \n",
    "References dates (day_no) MATCH FULL;"
   ]
  },
  {
   "cell_type": "markdown",
   "metadata": {},
   "source": [
    "### Dimension 2"
   ]
  },
  {
   "cell_type": "markdown",
   "metadata": {},
   "source": [
    "Our second dimension is crime_type. In our parent table, there is only one categorical column describing the category of crime. Therefore, we use that column to form our second dimension table. More information or columns can be added to this dimension with time"
   ]
  },
  {
   "cell_type": "code",
   "execution_count": 18,
   "metadata": {
    "collapsed": false
   },
   "outputs": [
    {
     "name": "stdout",
     "output_type": "stream",
     "text": [
      "Done.\n",
      "Done.\n",
      "1 rows affected.\n"
     ]
    },
    {
     "data": {
      "text/html": [
       "<table>\n",
       "    <tr>\n",
       "        <th>setval</th>\n",
       "    </tr>\n",
       "    <tr>\n",
       "        <td>1000</td>\n",
       "    </tr>\n",
       "</table>"
      ],
      "text/plain": [
       "[(1000,)]"
      ]
     },
     "execution_count": 18,
     "metadata": {},
     "output_type": "execute_result"
    }
   ],
   "source": [
    "%%sql\n",
    "drop sequence if exists seq cascade;\n",
    "CREATE SEQUENCE seq;\n",
    "SELECT setval('seq', 1000);\n"
   ]
  },
  {
   "cell_type": "code",
   "execution_count": 19,
   "metadata": {
    "collapsed": false
   },
   "outputs": [
    {
     "name": "stdout",
     "output_type": "stream",
     "text": [
      "Done.\n",
      "Done.\n"
     ]
    },
    {
     "data": {
      "text/plain": [
       "[]"
      ]
     },
     "execution_count": 19,
     "metadata": {},
     "output_type": "execute_result"
    }
   ],
   "source": [
    "%%sql\n",
    "drop table if exists crime_type cascade;\n",
    "create table crime_type\n",
    "(\n",
    "    crime_id text PRIMARY KEY CHECK (crime_id ~ '^CR[0-9]+$' ) DEFAULT 'CR'  || nextval('seq'),\n",
    "    category varchar(50)\n",
    ")\n"
   ]
  },
  {
   "cell_type": "code",
   "execution_count": 20,
   "metadata": {
    "collapsed": false
   },
   "outputs": [
    {
     "name": "stdout",
     "output_type": "stream",
     "text": [
      "39 rows affected.\n"
     ]
    },
    {
     "data": {
      "text/plain": [
       "[]"
      ]
     },
     "execution_count": 20,
     "metadata": {},
     "output_type": "execute_result"
    }
   ],
   "source": [
    "%%sql\n",
    "insert into crime_type(category)\n",
    "select distinct(category) FROM fact_table1;"
   ]
  },
  {
   "cell_type": "markdown",
   "metadata": {},
   "source": [
    "Adding primary key of our dimension table to our second temporary fact table"
   ]
  },
  {
   "cell_type": "code",
   "execution_count": 21,
   "metadata": {
    "collapsed": false
   },
   "outputs": [
    {
     "name": "stdout",
     "output_type": "stream",
     "text": [
      "Done.\n",
      "156424 rows affected.\n"
     ]
    },
    {
     "data": {
      "text/plain": [
       "[]"
      ]
     },
     "execution_count": 21,
     "metadata": {},
     "output_type": "execute_result"
    }
   ],
   "source": [
    "%%sql\n",
    "drop table if exists fact_table2 cascade;\n",
    "create table fact_table2 as\n",
    "select b.crime_id,a.* from fact_table1 as a left join crime_type as b on a.category=b.category;"
   ]
  },
  {
   "cell_type": "markdown",
   "metadata": {},
   "source": [
    "Adding crime_id as foreign key in our temporary fact table"
   ]
  },
  {
   "cell_type": "code",
   "execution_count": 22,
   "metadata": {
    "collapsed": false
   },
   "outputs": [
    {
     "name": "stdout",
     "output_type": "stream",
     "text": [
      "Done.\n"
     ]
    },
    {
     "data": {
      "text/plain": [
       "[]"
      ]
     },
     "execution_count": 22,
     "metadata": {},
     "output_type": "execute_result"
    }
   ],
   "source": [
    "%%sql\n",
    "Alter table fact_table2\n",
    "Add CONSTRAINT crime_id\n",
    "Foreign Key (crime_id) \n",
    "References crime_type(crime_id) MATCH FULL;"
   ]
  },
  {
   "cell_type": "markdown",
   "metadata": {
    "collapsed": false
   },
   "source": [
    "### Dimension 3"
   ]
  },
  {
   "cell_type": "markdown",
   "metadata": {
    "collapsed": false
   },
   "source": [
    "Our third dimension is district/location. There is just one column which gives information about the police district where the crime took place. There is no zip code or any other information available about the district besides co-ordinates and address. Address had too many unique values, so we decided to keep it in the fact table. "
   ]
  },
  {
   "cell_type": "code",
   "execution_count": 23,
   "metadata": {
    "collapsed": false
   },
   "outputs": [
    {
     "name": "stdout",
     "output_type": "stream",
     "text": [
      "Done.\n",
      "Done.\n"
     ]
    },
    {
     "data": {
      "text/plain": [
       "[]"
      ]
     },
     "execution_count": 23,
     "metadata": {},
     "output_type": "execute_result"
    }
   ],
   "source": [
    "%%sql\n",
    "drop table if exists district cascade;\n",
    "create table district\n",
    "(\n",
    "    district_no serial,\n",
    "    pd_district varchar(50),\n",
    "    PRIMARY KEY(district_no)\n",
    ")"
   ]
  },
  {
   "cell_type": "code",
   "execution_count": 24,
   "metadata": {
    "collapsed": false
   },
   "outputs": [
    {
     "name": "stdout",
     "output_type": "stream",
     "text": [
      "10 rows affected.\n"
     ]
    },
    {
     "data": {
      "text/plain": [
       "[]"
      ]
     },
     "execution_count": 24,
     "metadata": {},
     "output_type": "execute_result"
    }
   ],
   "source": [
    "%%sql\n",
    "insert into district(pd_district) select distinct(pddistrict) from fact_table2;"
   ]
  },
  {
   "cell_type": "markdown",
   "metadata": {},
   "source": [
    "### Final Fact Table"
   ]
  },
  {
   "cell_type": "markdown",
   "metadata": {},
   "source": [
    "As we know that fact tables should not have too many columns, just measurable quantities and foreign keys, but our data was such that we couldn't think of any way to make the fact table narrower. We avoided deleting columns as that would result in loss of information.\n",
    "We did not drop latitude and longitude as we have thought of using it for the bonus question."
   ]
  },
  {
   "cell_type": "code",
   "execution_count": 25,
   "metadata": {
    "collapsed": false
   },
   "outputs": [
    {
     "name": "stdout",
     "output_type": "stream",
     "text": [
      "Done.\n",
      "Done.\n"
     ]
    },
    {
     "data": {
      "text/plain": [
       "[]"
      ]
     },
     "execution_count": 25,
     "metadata": {},
     "output_type": "execute_result"
    }
   ],
   "source": [
    "%%sql\n",
    "drop table if exists sf_crime cascade;\n",
    "create table sf_crime\n",
    "(\n",
    "    instance_no serial,\n",
    "    crime_id text,\n",
    "    INCIDENT_NUM INTEGER,\n",
    "    DESCRIPTION VARCHAR(62),\n",
    "    day_no integer,\n",
    "    TIME TIME,\n",
    "    district_no integer,\n",
    "    RESOLUTION VARCHAR(38),\n",
    "    ADDRESS VARCHAR(42),\n",
    "    LATITUDE float, \n",
    "    LONGITUDE float,\n",
    "    PRIMARY KEY(instance_no)\n",
    ")"
   ]
  },
  {
   "cell_type": "code",
   "execution_count": 26,
   "metadata": {
    "collapsed": false
   },
   "outputs": [
    {
     "name": "stdout",
     "output_type": "stream",
     "text": [
      "156424 rows affected.\n"
     ]
    },
    {
     "data": {
      "text/plain": [
       "[]"
      ]
     },
     "execution_count": 26,
     "metadata": {},
     "output_type": "execute_result"
    }
   ],
   "source": [
    "%%sql\n",
    "insert into sf_crime(crime_id,incident_num,description,day_no,time,district_no,resolution,address,latitude,longitude)\n",
    "select a.crime_id,a.incident_num,a.description,a.day_no,a.time,b.district_no,a.resolution,a.address,a.latitude,a.longitude\n",
    "from fact_table2 as a\n",
    "left join\n",
    "district as b\n",
    "on a.pddistrict=b.pd_district;"
   ]
  },
  {
   "cell_type": "markdown",
   "metadata": {},
   "source": [
    "Adding foreign key constraints from our dimension tables"
   ]
  },
  {
   "cell_type": "code",
   "execution_count": 27,
   "metadata": {
    "collapsed": false
   },
   "outputs": [
    {
     "name": "stdout",
     "output_type": "stream",
     "text": [
      "Done.\n"
     ]
    },
    {
     "data": {
      "text/plain": [
       "[]"
      ]
     },
     "execution_count": 27,
     "metadata": {},
     "output_type": "execute_result"
    }
   ],
   "source": [
    "%%sql\n",
    "Alter table sf_crime\n",
    "Add CONSTRAINT day_no\n",
    "Foreign Key (day_no) \n",
    "References dates (day_no) MATCH FULL;"
   ]
  },
  {
   "cell_type": "code",
   "execution_count": 28,
   "metadata": {
    "collapsed": false
   },
   "outputs": [
    {
     "name": "stdout",
     "output_type": "stream",
     "text": [
      "Done.\n"
     ]
    },
    {
     "data": {
      "text/plain": [
       "[]"
      ]
     },
     "execution_count": 28,
     "metadata": {},
     "output_type": "execute_result"
    }
   ],
   "source": [
    "%%sql\n",
    "Alter table sf_crime\n",
    "Add CONSTRAINT crime_id\n",
    "Foreign Key (crime_id) \n",
    "References crime_type(crime_id) MATCH FULL;"
   ]
  },
  {
   "cell_type": "code",
   "execution_count": 29,
   "metadata": {
    "collapsed": false
   },
   "outputs": [
    {
     "name": "stdout",
     "output_type": "stream",
     "text": [
      "Done.\n"
     ]
    },
    {
     "data": {
      "text/plain": [
       "[]"
      ]
     },
     "execution_count": 29,
     "metadata": {},
     "output_type": "execute_result"
    }
   ],
   "source": [
    "%%sql\n",
    "Alter table sf_crime\n",
    "Add CONSTRAINT district_no\n",
    "Foreign Key (district_no) \n",
    "References district(district_no) MATCH FULL;"
   ]
  },
  {
   "cell_type": "markdown",
   "metadata": {
    "collapsed": false
   },
   "source": [
    "We did not delete the temporary fact tables as we might use them for the bonus question."
   ]
  },
  {
   "cell_type": "markdown",
   "metadata": {},
   "source": [
    "## Problem 4 - explore your data in its new schema (30 points)\n",
    "\n",
    "Strictly using the dimensional model tables you defined and populated for Problem 3, explore your data in its new form.  Use any of the query strategies we've seen in class, including transformations, aggregates, subqueries, rollups, and, of course, joins.  Add plots to highlight particular themes that stand out.  Describe your thinking and observations along the way."
   ]
  },
  {
   "cell_type": "markdown",
   "metadata": {},
   "source": [
    "#### Which district saw the most number of crimes ?"
   ]
  },
  {
   "cell_type": "code",
   "execution_count": 30,
   "metadata": {
    "collapsed": false
   },
   "outputs": [
    {
     "name": "stdout",
     "output_type": "stream",
     "text": [
      "10 rows affected.\n"
     ]
    },
    {
     "data": {
      "text/html": [
       "<table>\n",
       "    <tr>\n",
       "        <th>district_name</th>\n",
       "        <th>no_of_crimes</th>\n",
       "    </tr>\n",
       "    <tr>\n",
       "        <td>BAYVIEW</td>\n",
       "        <td>14699</td>\n",
       "    </tr>\n",
       "    <tr>\n",
       "        <td>INGLESIDE</td>\n",
       "        <td>13403</td>\n",
       "    </tr>\n",
       "    <tr>\n",
       "        <td>MISSION</td>\n",
       "        <td>18536</td>\n",
       "    </tr>\n",
       "    <tr>\n",
       "        <td>CENTRAL</td>\n",
       "        <td>18560</td>\n",
       "    </tr>\n",
       "    <tr>\n",
       "        <td>TARAVAL</td>\n",
       "        <td>11937</td>\n",
       "    </tr>\n",
       "    <tr>\n",
       "        <td>SOUTHERN</td>\n",
       "        <td>30065</td>\n",
       "    </tr>\n",
       "    <tr>\n",
       "        <td>TENDERLOIN</td>\n",
       "        <td>10729</td>\n",
       "    </tr>\n",
       "    <tr>\n",
       "        <td>PARK</td>\n",
       "        <td>9335</td>\n",
       "    </tr>\n",
       "    <tr>\n",
       "        <td>NORTHERN</td>\n",
       "        <td>20079</td>\n",
       "    </tr>\n",
       "    <tr>\n",
       "        <td>RICHMOND</td>\n",
       "        <td>9081</td>\n",
       "    </tr>\n",
       "</table>"
      ],
      "text/plain": [
       "[('BAYVIEW', 14699),\n",
       " ('INGLESIDE', 13403),\n",
       " ('MISSION', 18536),\n",
       " ('CENTRAL', 18560),\n",
       " ('TARAVAL', 11937),\n",
       " ('SOUTHERN', 30065),\n",
       " ('TENDERLOIN', 10729),\n",
       " ('PARK', 9335),\n",
       " ('NORTHERN', 20079),\n",
       " ('RICHMOND', 9081)]"
      ]
     },
     "execution_count": 30,
     "metadata": {},
     "output_type": "execute_result"
    }
   ],
   "source": [
    "%%sql\n",
    "select b.pd_district as district_name, count(a.instance_no) as no_of_crimes\n",
    "from sf_crime as a\n",
    "left join district as b\n",
    "on a.district_no = b.district_no\n",
    "group by b.pd_district;"
   ]
  },
  {
   "cell_type": "code",
   "execution_count": 31,
   "metadata": {
    "collapsed": false
   },
   "outputs": [
    {
     "name": "stderr",
     "output_type": "stream",
     "text": [
      "/opt/conda/lib/python3.5/site-packages/matplotlib/font_manager.py:273: UserWarning: Matplotlib is building the font cache using fc-list. This may take a moment.\n",
      "  warnings.warn('Matplotlib is building the font cache using fc-list. This may take a moment.')\n",
      "/opt/conda/lib/python3.5/site-packages/matplotlib/font_manager.py:273: UserWarning: Matplotlib is building the font cache using fc-list. This may take a moment.\n",
      "  warnings.warn('Matplotlib is building the font cache using fc-list. This may take a moment.')\n"
     ]
    },
    {
     "data": {
      "text/plain": [
       "<matplotlib.axes._subplots.AxesSubplot at 0x7f6b16170438>"
      ]
     },
     "execution_count": 31,
     "metadata": {},
     "output_type": "execute_result"
    },
    {
     "data": {
      "image/png": "[encoded data removed]",
      "text/plain": [
       "<matplotlib.figure.Figure at 0x7f6ae9f4e358>"
      ]
     },
     "metadata": {},
     "output_type": "display_data"
    }
   ],
   "source": [
    "import matplotlib as plt\n",
    "df = _.DataFrame()\n",
    "df.plot(x='district_name', y='no_of_crimes', kind = 'bar')\n",
    "\n"
   ]
  },
  {
   "cell_type": "markdown",
   "metadata": {},
   "source": [
    "Southern district witnessed comparatively more number of crimes compared to others"
   ]
  },
  {
   "cell_type": "markdown",
   "metadata": {},
   "source": [
    "#### Which part of the day witnessed more crimes ?"
   ]
  },
  {
   "cell_type": "code",
   "execution_count": 32,
   "metadata": {
    "collapsed": false
   },
   "outputs": [
    {
     "name": "stdout",
     "output_type": "stream",
     "text": [
      "5 rows affected.\n"
     ]
    },
    {
     "data": {
      "text/html": [
       "<table>\n",
       "    <tr>\n",
       "        <th>time_of_day</th>\n",
       "        <th>no_of_crimes</th>\n",
       "    </tr>\n",
       "    <tr>\n",
       "        <td>Night</td>\n",
       "        <td>28706</td>\n",
       "    </tr>\n",
       "    <tr>\n",
       "        <td>Evening</td>\n",
       "        <td>19828</td>\n",
       "    </tr>\n",
       "    <tr>\n",
       "        <td>Morning</td>\n",
       "        <td>34613</td>\n",
       "    </tr>\n",
       "    <tr>\n",
       "        <td>Early Morning</td>\n",
       "        <td>23054</td>\n",
       "    </tr>\n",
       "    <tr>\n",
       "        <td>Afternoon</td>\n",
       "        <td>50223</td>\n",
       "    </tr>\n",
       "</table>"
      ],
      "text/plain": [
       "[('Night', 28706),\n",
       " ('Evening', 19828),\n",
       " ('Morning', 34613),\n",
       " ('Early Morning', 23054),\n",
       " ('Afternoon', 50223)]"
      ]
     },
     "execution_count": 32,
     "metadata": {},
     "output_type": "execute_result"
    }
   ],
   "source": [
    "%%sql\n",
    "select time_of_day,count(instance_no) as no_of_crimes\n",
    "from\n",
    "(select instance_no,\n",
    "case\n",
    "    when time between '00:00:00' and '06:00:00' then 'Early Morning'\n",
    "    when time between '06:00:01' and '12:00:00' then 'Morning'\n",
    "    when time between '12:00:01' and '18:00:00' then 'Afternoon'\n",
    "    when time between '18:00:01' and '20:00:00' then 'Evening'\n",
    "    else 'Night' end as time_of_day\n",
    "from sf_crime) as a\n",
    "group by time_of_day;\n",
    "    \n"
   ]
  },
  {
   "cell_type": "code",
   "execution_count": 33,
   "metadata": {
    "collapsed": false
   },
   "outputs": [
    {
     "data": {
      "text/plain": [
       "<matplotlib.axes._subplots.AxesSubplot at 0x7f6b1610b860>"
      ]
     },
     "execution_count": 33,
     "metadata": {},
     "output_type": "execute_result"
    },
    {
     "data": {
      "image/png": "[encoded data removed]",
      "text/plain": [
       "<matplotlib.figure.Figure at 0x7f6b160d4c88>"
      ]
     },
     "metadata": {},
     "output_type": "display_data"
    }
   ],
   "source": [
    "df = _.DataFrame()\n",
    "df.plot(x='time_of_day', y='no_of_crimes', kind = 'bar')"
   ]
  },
  {
   "cell_type": "markdown",
   "metadata": {},
   "source": [
    "Even though afternoon shows more number of crimes, it would not be fair to conclude that as evening has a shorter duration and when we combine crimes that happened in evening and night, we get a similar number as afternoon\n"
   ]
  },
  {
   "cell_type": "markdown",
   "metadata": {},
   "source": [
    "#### Which month had the most number of crimes?"
   ]
  },
  {
   "cell_type": "code",
   "execution_count": 34,
   "metadata": {
    "collapsed": false
   },
   "outputs": [
    {
     "name": "stdout",
     "output_type": "stream",
     "text": [
      "12 rows affected.\n"
     ]
    },
    {
     "data": {
      "text/html": [
       "<table>\n",
       "    <tr>\n",
       "        <th>month</th>\n",
       "        <th>count</th>\n",
       "    </tr>\n",
       "    <tr>\n",
       "        <td>1.0</td>\n",
       "        <td>13602</td>\n",
       "    </tr>\n",
       "    <tr>\n",
       "        <td>2.0</td>\n",
       "        <td>12324</td>\n",
       "    </tr>\n",
       "    <tr>\n",
       "        <td>3.0</td>\n",
       "        <td>13929</td>\n",
       "    </tr>\n",
       "    <tr>\n",
       "        <td>4.0</td>\n",
       "        <td>12961</td>\n",
       "    </tr>\n",
       "    <tr>\n",
       "        <td>5.0</td>\n",
       "        <td>13727</td>\n",
       "    </tr>\n",
       "    <tr>\n",
       "        <td>6.0</td>\n",
       "        <td>13302</td>\n",
       "    </tr>\n",
       "    <tr>\n",
       "        <td>7.0</td>\n",
       "        <td>13361</td>\n",
       "    </tr>\n",
       "    <tr>\n",
       "        <td>8.0</td>\n",
       "        <td>13719</td>\n",
       "    </tr>\n",
       "    <tr>\n",
       "        <td>9.0</td>\n",
       "        <td>12888</td>\n",
       "    </tr>\n",
       "    <tr>\n",
       "        <td>10.0</td>\n",
       "        <td>13136</td>\n",
       "    </tr>\n",
       "    <tr>\n",
       "        <td>11.0</td>\n",
       "        <td>12075</td>\n",
       "    </tr>\n",
       "    <tr>\n",
       "        <td>12.0</td>\n",
       "        <td>11400</td>\n",
       "    </tr>\n",
       "</table>"
      ],
      "text/plain": [
       "[(1.0, 13602),\n",
       " (2.0, 12324),\n",
       " (3.0, 13929),\n",
       " (4.0, 12961),\n",
       " (5.0, 13727),\n",
       " (6.0, 13302),\n",
       " (7.0, 13361),\n",
       " (8.0, 13719),\n",
       " (9.0, 12888),\n",
       " (10.0, 13136),\n",
       " (11.0, 12075),\n",
       " (12.0, 11400)]"
      ]
     },
     "execution_count": 34,
     "metadata": {},
     "output_type": "execute_result"
    }
   ],
   "source": [
    "%%sql\n",
    "select extract(month from b.date) as month, count(a.instance_no)\n",
    "from sf_crime as a\n",
    "left join dates as b\n",
    "on a.day_no=b.day_no\n",
    "group by month\n",
    "order by month;"
   ]
  },
  {
   "cell_type": "code",
   "execution_count": 35,
   "metadata": {
    "collapsed": false
   },
   "outputs": [
    {
     "data": {
      "text/plain": [
       "<matplotlib.axes._subplots.AxesSubplot at 0x7f6ae9d79f28>"
      ]
     },
     "execution_count": 35,
     "metadata": {},
     "output_type": "execute_result"
    },
    {
     "data": {
      "image/png": "[encoded data removed]",
      "text/plain": [
       "<matplotlib.figure.Figure at 0x7f6ae9d6c128>"
      ]
     },
     "metadata": {},
     "output_type": "display_data"
    }
   ],
   "source": [
    "df = _.DataFrame()\n",
    "df.plot(x='month', y='count', kind = 'bar')"
   ]
  },
  {
   "cell_type": "markdown",
   "metadata": {},
   "source": [
    "Criminals do not prefer a particular month for their activities!"
   ]
  },
  {
   "cell_type": "markdown",
   "metadata": {},
   "source": [
    "#### Which district had more theft related crimes on Saturdays?"
   ]
  },
  {
   "cell_type": "code",
   "execution_count": 36,
   "metadata": {
    "collapsed": false
   },
   "outputs": [
    {
     "name": "stdout",
     "output_type": "stream",
     "text": [
      "10 rows affected.\n"
     ]
    },
    {
     "data": {
      "text/html": [
       "<table>\n",
       "    <tr>\n",
       "        <th>pd_district</th>\n",
       "        <th>count</th>\n",
       "    </tr>\n",
       "    <tr>\n",
       "        <td>BAYVIEW</td>\n",
       "        <td>395</td>\n",
       "    </tr>\n",
       "    <tr>\n",
       "        <td>PARK</td>\n",
       "        <td>456</td>\n",
       "    </tr>\n",
       "    <tr>\n",
       "        <td>INGLESIDE</td>\n",
       "        <td>451</td>\n",
       "    </tr>\n",
       "    <tr>\n",
       "        <td>CENTRAL</td>\n",
       "        <td>1220</td>\n",
       "    </tr>\n",
       "    <tr>\n",
       "        <td>NORTHERN</td>\n",
       "        <td>1345</td>\n",
       "    </tr>\n",
       "    <tr>\n",
       "        <td>SOUTHERN</td>\n",
       "        <td>1933</td>\n",
       "    </tr>\n",
       "    <tr>\n",
       "        <td>TARAVAL</td>\n",
       "        <td>470</td>\n",
       "    </tr>\n",
       "    <tr>\n",
       "        <td>MISSION</td>\n",
       "        <td>530</td>\n",
       "    </tr>\n",
       "    <tr>\n",
       "        <td>RICHMOND</td>\n",
       "        <td>463</td>\n",
       "    </tr>\n",
       "    <tr>\n",
       "        <td>TENDERLOIN</td>\n",
       "        <td>372</td>\n",
       "    </tr>\n",
       "</table>"
      ],
      "text/plain": [
       "[('BAYVIEW', 395),\n",
       " ('PARK', 456),\n",
       " ('INGLESIDE', 451),\n",
       " ('CENTRAL', 1220),\n",
       " ('NORTHERN', 1345),\n",
       " ('SOUTHERN', 1933),\n",
       " ('TARAVAL', 470),\n",
       " ('MISSION', 530),\n",
       " ('RICHMOND', 463),\n",
       " ('TENDERLOIN', 372)]"
      ]
     },
     "execution_count": 36,
     "metadata": {},
     "output_type": "execute_result"
    }
   ],
   "source": [
    "%%sql\n",
    "select pd_district,count(instance_no)\n",
    "from\n",
    "(select \n",
    "a.instance_no,\n",
    "b.pd_district,\n",
    "c.day,\n",
    "d.category\n",
    "from \n",
    "sf_crime as a\n",
    "left join district as b on a.district_no=b.district_no\n",
    "left join dates as c on a.day_no=c.day_no\n",
    "left join crime_type as d on a.crime_id=d.crime_id) as j\n",
    "where day like '%Saturday%' and category like '%THEFT%'\n",
    "group by pd_district;\n"
   ]
  },
  {
   "cell_type": "code",
   "execution_count": 37,
   "metadata": {
    "collapsed": false
   },
   "outputs": [
    {
     "data": {
      "text/plain": [
       "<matplotlib.axes._subplots.AxesSubplot at 0x7f6b1611bf60>"
      ]
     },
     "execution_count": 37,
     "metadata": {},
     "output_type": "execute_result"
    },
    {
     "data": {
      "image/png": "[encoded data removed]",
      "text/plain": [
       "<matplotlib.figure.Figure at 0x7f6ae8c6d208>"
      ]
     },
     "metadata": {},
     "output_type": "display_data"
    }
   ],
   "source": [
    "df = _.DataFrame()\n",
    "df.plot(x='pd_district', y='count', kind = 'bar')"
   ]
  },
  {
   "cell_type": "markdown",
   "metadata": {},
   "source": [
    "Southern district has the most number of criminal incidents and criminals enjoy robbing on Saturdays in the Southern district. One reason could be that people go out on Saturdays\n"
   ]
  },
  {
   "cell_type": "markdown",
   "metadata": {},
   "source": [
    "#### For Southern district, which month saw the maximum number of Assault incidents?"
   ]
  },
  {
   "cell_type": "code",
   "execution_count": 38,
   "metadata": {
    "collapsed": false
   },
   "outputs": [
    {
     "name": "stdout",
     "output_type": "stream",
     "text": [
      "12 rows affected.\n"
     ]
    },
    {
     "data": {
      "text/html": [
       "<table>\n",
       "    <tr>\n",
       "        <th>month</th>\n",
       "        <th>count</th>\n",
       "    </tr>\n",
       "    <tr>\n",
       "        <td>1.0</td>\n",
       "        <td>183</td>\n",
       "    </tr>\n",
       "    <tr>\n",
       "        <td>2.0</td>\n",
       "        <td>147</td>\n",
       "    </tr>\n",
       "    <tr>\n",
       "        <td>3.0</td>\n",
       "        <td>184</td>\n",
       "    </tr>\n",
       "    <tr>\n",
       "        <td>4.0</td>\n",
       "        <td>173</td>\n",
       "    </tr>\n",
       "    <tr>\n",
       "        <td>5.0</td>\n",
       "        <td>162</td>\n",
       "    </tr>\n",
       "    <tr>\n",
       "        <td>6.0</td>\n",
       "        <td>180</td>\n",
       "    </tr>\n",
       "    <tr>\n",
       "        <td>7.0</td>\n",
       "        <td>156</td>\n",
       "    </tr>\n",
       "    <tr>\n",
       "        <td>8.0</td>\n",
       "        <td>191</td>\n",
       "    </tr>\n",
       "    <tr>\n",
       "        <td>9.0</td>\n",
       "        <td>210</td>\n",
       "    </tr>\n",
       "    <tr>\n",
       "        <td>10.0</td>\n",
       "        <td>195</td>\n",
       "    </tr>\n",
       "    <tr>\n",
       "        <td>11.0</td>\n",
       "        <td>154</td>\n",
       "    </tr>\n",
       "    <tr>\n",
       "        <td>12.0</td>\n",
       "        <td>155</td>\n",
       "    </tr>\n",
       "</table>"
      ],
      "text/plain": [
       "[(1.0, 183),\n",
       " (2.0, 147),\n",
       " (3.0, 184),\n",
       " (4.0, 173),\n",
       " (5.0, 162),\n",
       " (6.0, 180),\n",
       " (7.0, 156),\n",
       " (8.0, 191),\n",
       " (9.0, 210),\n",
       " (10.0, 195),\n",
       " (11.0, 154),\n",
       " (12.0, 155)]"
      ]
     },
     "execution_count": 38,
     "metadata": {},
     "output_type": "execute_result"
    }
   ],
   "source": [
    "%%sql\n",
    "\n",
    "select \n",
    "extract(month from c.date)as month,\n",
    "count(a.instance_no) as count\n",
    "from \n",
    "sf_crime as a\n",
    "left join district as b on a.district_no=b.district_no\n",
    "left join dates as c on a.day_no=c.day_no\n",
    "left join crime_type as d on a.crime_id=d.crime_id\n",
    "where d.category like '%ASSAULT%' and b.pd_district='SOUTHERN'\n",
    "group by b.pd_district,month\n",
    "order by month;\n",
    "\n",
    "\n"
   ]
  },
  {
   "cell_type": "code",
   "execution_count": 39,
   "metadata": {
    "collapsed": false
   },
   "outputs": [
    {
     "data": {
      "text/plain": [
       "<matplotlib.axes._subplots.AxesSubplot at 0x7f6ae8c6d898>"
      ]
     },
     "execution_count": 39,
     "metadata": {},
     "output_type": "execute_result"
    },
    {
     "data": {
      "image/png": "[encoded data removed]",
      "text/plain": [
       "<matplotlib.figure.Figure at 0x7f6ae77ab080>"
      ]
     },
     "metadata": {},
     "output_type": "display_data"
    }
   ],
   "source": [
    "df = _.DataFrame()\n",
    "df.plot(x='month', y='count', kind = 'bar')"
   ]
  },
  {
   "cell_type": "markdown",
   "metadata": {},
   "source": [
    "Nothing interesting here !!"
   ]
  },
  {
   "cell_type": "markdown",
   "metadata": {},
   "source": [
    "## Bonus (10 points for one of A or B)\n",
    "\n",
    "\n",
    "### Option A - Automating ETL\n",
    "\n",
    "Consider the work you did to load your original raw dataset and then transform it into a dimensional model for analysis.  What would it take to automate this process?  How often would you need to update the data?  Could you easily automate any data cleaning steps?  What checks would you need to put in place to ensure quality?  Would humans need to be involved, or could you automate it all?\n",
    "\n",
    "Discuss.\n",
    "\n",
    "\n",
    "### Option B - Augmenting dimensions\n",
    "\n",
    "Considering your dimensional model, what external data could you find to augment it?  As in the case of bike trips, where weather might provide an interesting added dimension/context not present in the original data, you can probably find another source of data to complement your own model.  Identify one such source and add it to your model, demonstrating its value with a few new queries."
   ]
  },
  {
   "cell_type": "markdown",
   "metadata": {},
   "source": [
    "### Option B"
   ]
  },
  {
   "cell_type": "markdown",
   "metadata": {},
   "source": [
    "For our district table, which has only one column, we thought of adding some more information to it. There are police stations in each district, the co-ordinates of each of these stations are available on http://www.lat-long.com. We had to manually search for the co-ordinates of each police station in San Francisco post which we added them to a csv file. \n",
    "We intend to use the latitude & longitude information of police stations to see whether the number of crimes increased with increase in distance from the police station in a district."
   ]
  },
  {
   "cell_type": "code",
   "execution_count": 40,
   "metadata": {
    "collapsed": false
   },
   "outputs": [
    {
     "name": "stdout",
     "output_type": "stream",
     "text": [
      "--2016-11-11 08:24:14--  https://raw.githubusercontent.com/kamran1310/istm-6212/master/stations.csv\n",
      "Resolving raw.githubusercontent.com (raw.githubusercontent.com)... 151.101.32.133\n",
      "Connecting to raw.githubusercontent.com (raw.githubusercontent.com)|151.101.32.133|:443... connected.\n",
      "HTTP request sent, awaiting response... 200 OK\n",
      "Length: 335 [text/plain]\n",
      "Saving to: ‘stations.csv’\n",
      "\n",
      "stations.csv        100%[=====================>]     335  --.-KB/s   in 0s     \n",
      "\n",
      "2016-11-11 08:24:14 (12.0 MB/s) - ‘stations.csv’ saved [335/335]\n",
      "\n"
     ]
    }
   ],
   "source": [
    "\n",
    "!wget https://raw.githubusercontent.com/kamran1310/istm-6212/master/stations.csv"
   ]
  },
  {
   "cell_type": "code",
   "execution_count": 41,
   "metadata": {
    "collapsed": false
   },
   "outputs": [
    {
     "name": "stdout",
     "output_type": "stream",
     "text": [
      "Done.\n",
      "Done.\n"
     ]
    },
    {
     "data": {
      "text/plain": [
       "[]"
      ]
     },
     "execution_count": 41,
     "metadata": {},
     "output_type": "execute_result"
    }
   ],
   "source": [
    "%%sql\n",
    "drop table if exists stations;\n",
    "create table stations\n",
    "(\n",
    "    district varchar(50),\n",
    "    long float,\n",
    "    lat float\n",
    ");"
   ]
  },
  {
   "cell_type": "code",
   "execution_count": 42,
   "metadata": {
    "collapsed": false
   },
   "outputs": [
    {
     "name": "stdout",
     "output_type": "stream",
     "text": [
      "10 rows affected.\n"
     ]
    },
    {
     "data": {
      "text/plain": [
       "[]"
      ]
     },
     "execution_count": 42,
     "metadata": {},
     "output_type": "execute_result"
    }
   ],
   "source": [
    "%%sql\n",
    "COPY stations FROM '/home/jovyan/work/stations.csv'\n",
    "CSV\n",
    "HEADER\n",
    "QUOTE '\"'\n",
    "DELIMITER ',';"
   ]
  },
  {
   "cell_type": "code",
   "execution_count": 43,
   "metadata": {
    "collapsed": false
   },
   "outputs": [
    {
     "name": "stdout",
     "output_type": "stream",
     "text": [
      "156424 rows affected.\n"
     ]
    },
    {
     "data": {
      "text/plain": [
       "[]"
      ]
     },
     "execution_count": 43,
     "metadata": {},
     "output_type": "execute_result"
    }
   ],
   "source": [
    "%%sql\n",
    "create table bonus as\n",
    "select a.*,b.lat,b.long from \n",
    "sf_crime as a left join \n",
    "district as c on a.district_no=c.district_no\n",
    "left join stations as b\n",
    "on b.district=c.pd_district;"
   ]
  },
  {
   "cell_type": "code",
   "execution_count": 44,
   "metadata": {
    "collapsed": false
   },
   "outputs": [
    {
     "name": "stdout",
     "output_type": "stream",
     "text": [
      "100 rows affected.\n"
     ]
    },
    {
     "data": {
      "text/html": [
       "<table>\n",
       "    <tr>\n",
       "        <th>dist</th>\n",
       "    </tr>\n",
       "    <tr>\n",
       "        <td>226.527980936321</td>\n",
       "    </tr>\n",
       "    <tr>\n",
       "        <td>226.578145885587</td>\n",
       "    </tr>\n",
       "    <tr>\n",
       "        <td>226.52906562417</td>\n",
       "    </tr>\n",
       "    <tr>\n",
       "        <td>226.565389498535</td>\n",
       "    </tr>\n",
       "    <tr>\n",
       "        <td>226.481715967049</td>\n",
       "    </tr>\n",
       "    <tr>\n",
       "        <td>226.551441209361</td>\n",
       "    </tr>\n",
       "    <tr>\n",
       "        <td>226.576562685606</td>\n",
       "    </tr>\n",
       "    <tr>\n",
       "        <td>226.564386914479</td>\n",
       "    </tr>\n",
       "    <tr>\n",
       "        <td>226.50309605615</td>\n",
       "    </tr>\n",
       "    <tr>\n",
       "        <td>226.576873822389</td>\n",
       "    </tr>\n",
       "    <tr>\n",
       "        <td>226.576684727919</td>\n",
       "    </tr>\n",
       "    <tr>\n",
       "        <td>226.570468494581</td>\n",
       "    </tr>\n",
       "    <tr>\n",
       "        <td>226.563026610021</td>\n",
       "    </tr>\n",
       "    <tr>\n",
       "        <td>226.535230402866</td>\n",
       "    </tr>\n",
       "    <tr>\n",
       "        <td>226.533665269068</td>\n",
       "    </tr>\n",
       "    <tr>\n",
       "        <td>226.533665269068</td>\n",
       "    </tr>\n",
       "    <tr>\n",
       "        <td>226.537432359647</td>\n",
       "    </tr>\n",
       "    <tr>\n",
       "        <td>226.544221238238</td>\n",
       "    </tr>\n",
       "    <tr>\n",
       "        <td>226.552171739784</td>\n",
       "    </tr>\n",
       "    <tr>\n",
       "        <td>226.541211842288</td>\n",
       "    </tr>\n",
       "    <tr>\n",
       "        <td>226.541211842288</td>\n",
       "    </tr>\n",
       "    <tr>\n",
       "        <td>226.595236128359</td>\n",
       "    </tr>\n",
       "    <tr>\n",
       "        <td>226.536417488414</td>\n",
       "    </tr>\n",
       "    <tr>\n",
       "        <td>226.536417488414</td>\n",
       "    </tr>\n",
       "    <tr>\n",
       "        <td>226.553816349303</td>\n",
       "    </tr>\n",
       "    <tr>\n",
       "        <td>226.526707169536</td>\n",
       "    </tr>\n",
       "    <tr>\n",
       "        <td>226.51293857951</td>\n",
       "    </tr>\n",
       "    <tr>\n",
       "        <td>226.51293857951</td>\n",
       "    </tr>\n",
       "    <tr>\n",
       "        <td>226.616805770412</td>\n",
       "    </tr>\n",
       "    <tr>\n",
       "        <td>226.578626916064</td>\n",
       "    </tr>\n",
       "    <tr>\n",
       "        <td>226.561467965888</td>\n",
       "    </tr>\n",
       "    <tr>\n",
       "        <td>226.521862186614</td>\n",
       "    </tr>\n",
       "    <tr>\n",
       "        <td>226.520782734037</td>\n",
       "    </tr>\n",
       "    <tr>\n",
       "        <td>226.531236288537</td>\n",
       "    </tr>\n",
       "    <tr>\n",
       "        <td>226.460643402982</td>\n",
       "    </tr>\n",
       "    <tr>\n",
       "        <td>226.550987617378</td>\n",
       "    </tr>\n",
       "    <tr>\n",
       "        <td>226.573589290494</td>\n",
       "    </tr>\n",
       "    <tr>\n",
       "        <td>226.512766538419</td>\n",
       "    </tr>\n",
       "    <tr>\n",
       "        <td>226.569476608271</td>\n",
       "    </tr>\n",
       "    <tr>\n",
       "        <td>226.617385880836</td>\n",
       "    </tr>\n",
       "    <tr>\n",
       "        <td>226.443730874716</td>\n",
       "    </tr>\n",
       "    <tr>\n",
       "        <td>226.597578969849</td>\n",
       "    </tr>\n",
       "    <tr>\n",
       "        <td>226.552700031643</td>\n",
       "    </tr>\n",
       "    <tr>\n",
       "        <td>226.506516715558</td>\n",
       "    </tr>\n",
       "    <tr>\n",
       "        <td>226.557303182091</td>\n",
       "    </tr>\n",
       "    <tr>\n",
       "        <td>226.522036110778</td>\n",
       "    </tr>\n",
       "    <tr>\n",
       "        <td>226.522036110778</td>\n",
       "    </tr>\n",
       "    <tr>\n",
       "        <td>226.568681070495</td>\n",
       "    </tr>\n",
       "    <tr>\n",
       "        <td>226.527505125815</td>\n",
       "    </tr>\n",
       "    <tr>\n",
       "        <td>226.576143522118</td>\n",
       "    </tr>\n",
       "    <tr>\n",
       "        <td>226.52983345849</td>\n",
       "    </tr>\n",
       "    <tr>\n",
       "        <td>226.528210729996</td>\n",
       "    </tr>\n",
       "    <tr>\n",
       "        <td>226.552171739784</td>\n",
       "    </tr>\n",
       "    <tr>\n",
       "        <td>226.524701323667</td>\n",
       "    </tr>\n",
       "    <tr>\n",
       "        <td>226.570568385872</td>\n",
       "    </tr>\n",
       "    <tr>\n",
       "        <td>226.520184107015</td>\n",
       "    </tr>\n",
       "    <tr>\n",
       "        <td>226.451624415631</td>\n",
       "    </tr>\n",
       "    <tr>\n",
       "        <td>226.615836721216</td>\n",
       "    </tr>\n",
       "    <tr>\n",
       "        <td>226.553603324564</td>\n",
       "    </tr>\n",
       "    <tr>\n",
       "        <td>226.550534792788</td>\n",
       "    </tr>\n",
       "    <tr>\n",
       "        <td>226.577592218611</td>\n",
       "    </tr>\n",
       "    <tr>\n",
       "        <td>226.620180671106</td>\n",
       "    </tr>\n",
       "    <tr>\n",
       "        <td>226.549466914836</td>\n",
       "    </tr>\n",
       "    <tr>\n",
       "        <td>226.533349107715</td>\n",
       "    </tr>\n",
       "    <tr>\n",
       "        <td>226.568776332929</td>\n",
       "    </tr>\n",
       "    <tr>\n",
       "        <td>226.50834843094</td>\n",
       "    </tr>\n",
       "    <tr>\n",
       "        <td>226.522021498456</td>\n",
       "    </tr>\n",
       "    <tr>\n",
       "        <td>226.575422623015</td>\n",
       "    </tr>\n",
       "    <tr>\n",
       "        <td>226.51066123087</td>\n",
       "    </tr>\n",
       "    <tr>\n",
       "        <td>226.47649212796</td>\n",
       "    </tr>\n",
       "    <tr>\n",
       "        <td>226.53270564765</td>\n",
       "    </tr>\n",
       "    <tr>\n",
       "        <td>226.530863649484</td>\n",
       "    </tr>\n",
       "    <tr>\n",
       "        <td>226.536339654985</td>\n",
       "    </tr>\n",
       "    <tr>\n",
       "        <td>226.565718593837</td>\n",
       "    </tr>\n",
       "    <tr>\n",
       "        <td>226.578163381527</td>\n",
       "    </tr>\n",
       "    <tr>\n",
       "        <td>226.550402096108</td>\n",
       "    </tr>\n",
       "    <tr>\n",
       "        <td>226.50565651009</td>\n",
       "    </tr>\n",
       "    <tr>\n",
       "        <td>226.53652675901</td>\n",
       "    </tr>\n",
       "    <tr>\n",
       "        <td>226.53652675901</td>\n",
       "    </tr>\n",
       "    <tr>\n",
       "        <td>226.512925202637</td>\n",
       "    </tr>\n",
       "    <tr>\n",
       "        <td>226.571876376651</td>\n",
       "    </tr>\n",
       "    <tr>\n",
       "        <td>226.537445608312</td>\n",
       "    </tr>\n",
       "    <tr>\n",
       "        <td>226.511346597692</td>\n",
       "    </tr>\n",
       "    <tr>\n",
       "        <td>226.451654882291</td>\n",
       "    </tr>\n",
       "    <tr>\n",
       "        <td>226.53375363539</td>\n",
       "    </tr>\n",
       "    <tr>\n",
       "        <td>226.576026682377</td>\n",
       "    </tr>\n",
       "    <tr>\n",
       "        <td>226.576026682377</td>\n",
       "    </tr>\n",
       "    <tr>\n",
       "        <td>226.530393018148</td>\n",
       "    </tr>\n",
       "    <tr>\n",
       "        <td>226.534632862977</td>\n",
       "    </tr>\n",
       "    <tr>\n",
       "        <td>226.573542027697</td>\n",
       "    </tr>\n",
       "    <tr>\n",
       "        <td>226.512614602871</td>\n",
       "    </tr>\n",
       "    <tr>\n",
       "        <td>226.523528295878</td>\n",
       "    </tr>\n",
       "    <tr>\n",
       "        <td>226.529331972305</td>\n",
       "    </tr>\n",
       "    <tr>\n",
       "        <td>226.554255632135</td>\n",
       "    </tr>\n",
       "    <tr>\n",
       "        <td>226.439509457598</td>\n",
       "    </tr>\n",
       "    <tr>\n",
       "        <td>226.601792807008</td>\n",
       "    </tr>\n",
       "    <tr>\n",
       "        <td>226.502686815865</td>\n",
       "    </tr>\n",
       "    <tr>\n",
       "        <td>226.502686815865</td>\n",
       "    </tr>\n",
       "    <tr>\n",
       "        <td>226.537687646446</td>\n",
       "    </tr>\n",
       "    <tr>\n",
       "        <td>226.551208964501</td>\n",
       "    </tr>\n",
       "</table>"
      ],
      "text/plain": [
       "[(226.527980936321,),\n",
       " (226.578145885587,),\n",
       " (226.52906562417,),\n",
       " (226.565389498535,),\n",
       " (226.481715967049,),\n",
       " (226.551441209361,),\n",
       " (226.576562685606,),\n",
       " (226.564386914479,),\n",
       " (226.50309605615,),\n",
       " (226.576873822389,),\n",
       " (226.576684727919,),\n",
       " (226.570468494581,),\n",
       " (226.563026610021,),\n",
       " (226.535230402866,),\n",
       " (226.533665269068,),\n",
       " (226.533665269068,),\n",
       " (226.537432359647,),\n",
       " (226.544221238238,),\n",
       " (226.552171739784,),\n",
       " (226.541211842288,),\n",
       " (226.541211842288,),\n",
       " (226.595236128359,),\n",
       " (226.536417488414,),\n",
       " (226.536417488414,),\n",
       " (226.553816349303,),\n",
       " (226.526707169536,),\n",
       " (226.51293857951,),\n",
       " (226.51293857951,),\n",
       " (226.616805770412,),\n",
       " (226.578626916064,),\n",
       " (226.561467965888,),\n",
       " (226.521862186614,),\n",
       " (226.520782734037,),\n",
       " (226.531236288537,),\n",
       " (226.460643402982,),\n",
       " (226.550987617378,),\n",
       " (226.573589290494,),\n",
       " (226.512766538419,),\n",
       " (226.569476608271,),\n",
       " (226.617385880836,),\n",
       " (226.443730874716,),\n",
       " (226.597578969849,),\n",
       " (226.552700031643,),\n",
       " (226.506516715558,),\n",
       " (226.557303182091,),\n",
       " (226.522036110778,),\n",
       " (226.522036110778,),\n",
       " (226.568681070495,),\n",
       " (226.527505125815,),\n",
       " (226.576143522118,),\n",
       " (226.52983345849,),\n",
       " (226.528210729996,),\n",
       " (226.552171739784,),\n",
       " (226.524701323667,),\n",
       " (226.570568385872,),\n",
       " (226.520184107015,),\n",
       " (226.451624415631,),\n",
       " (226.615836721216,),\n",
       " (226.553603324564,),\n",
       " (226.550534792788,),\n",
       " (226.577592218611,),\n",
       " (226.620180671106,),\n",
       " (226.549466914836,),\n",
       " (226.533349107715,),\n",
       " (226.568776332929,),\n",
       " (226.50834843094,),\n",
       " (226.522021498456,),\n",
       " (226.575422623015,),\n",
       " (226.51066123087,),\n",
       " (226.47649212796,),\n",
       " (226.53270564765,),\n",
       " (226.530863649484,),\n",
       " (226.536339654985,),\n",
       " (226.565718593837,),\n",
       " (226.578163381527,),\n",
       " (226.550402096108,),\n",
       " (226.50565651009,),\n",
       " (226.53652675901,),\n",
       " (226.53652675901,),\n",
       " (226.512925202637,),\n",
       " (226.571876376651,),\n",
       " (226.537445608312,),\n",
       " (226.511346597692,),\n",
       " (226.451654882291,),\n",
       " (226.53375363539,),\n",
       " (226.576026682377,),\n",
       " (226.576026682377,),\n",
       " (226.530393018148,),\n",
       " (226.534632862977,),\n",
       " (226.573542027697,),\n",
       " (226.512614602871,),\n",
       " (226.523528295878,),\n",
       " (226.529331972305,),\n",
       " (226.554255632135,),\n",
       " (226.439509457598,),\n",
       " (226.601792807008,),\n",
       " (226.502686815865,),\n",
       " (226.502686815865,),\n",
       " (226.537687646446,),\n",
       " (226.551208964501,)]"
      ]
     },
     "execution_count": 44,
     "metadata": {},
     "output_type": "execute_result"
    }
   ],
   "source": [
    "%%sql\n",
    "select point(latitude,longitude)<->point(lat,long) as dist from bonus\n",
    "limit 100;"
   ]
  }
 ],
 "metadata": {
  "anaconda-cloud": {},
  "kernelspec": {
   "display_name": "Python 3",
   "language": "python",
   "name": "python3"
  },
  "language_info": {
   "codemirror_mode": {
    "name": "ipython",
    "version": 3
   },
   "file_extension": ".py",
   "mimetype": "text/x-python",
   "name": "python",
   "nbconvert_exporter": "python",
   "pygments_lexer": "ipython3",
   "version": "3.5.2"
  }
 },
 "nbformat": 4,
 "nbformat_minor": 1
}
